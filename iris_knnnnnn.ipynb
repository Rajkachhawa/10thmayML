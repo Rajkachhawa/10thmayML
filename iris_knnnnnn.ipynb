{
 "cells": [
  {
   "cell_type": "code",
   "execution_count": 7,
   "metadata": {},
   "outputs": [
    {
     "name": "stdout",
     "output_type": "stream",
     "text": [
      "0.9666666666666667\n"
     ]
    }
   ],
   "source": [
    "from  sklearn.datasets  import load_iris\n",
    "from  sklearn.model_selection  import  train_test_split\n",
    "from sklearn.neighbors  import  KNeighborsClassifier\n",
    "\n",
    "#  loading  data \n",
    "iris=load_iris()\n",
    "\n",
    "train_data,test_data,train_target,test_target=train_test_split(iris.data,iris.target,test_size=0.2)\n",
    "\n",
    "#  calling KNN  classifier \n",
    "knn=KNeighborsClassifier(n_neighbors=5)\n",
    "\n",
    "#  loading  data in KNN\n",
    "trained=knn.fit(train_data,train_target)\n",
    "\n",
    "#  predicting model \n",
    "predicted=trained.predict(test_data)\n",
    "\n",
    "#print(predicted)\n",
    "\n",
    "#  accuracy  test\n",
    "from  sklearn.metrics import  accuracy_score\n",
    "rate=accuracy_score(test_target,predicted)\n",
    "print(rate)\n",
    "\n"
   ]
  },
  {
   "cell_type": "code",
   "execution_count": null,
   "metadata": {},
   "outputs": [],
   "source": []
  }
 ],
 "metadata": {
  "kernelspec": {
   "display_name": "Python 3",
   "language": "python",
   "name": "python3"
  },
  "language_info": {
   "codemirror_mode": {
    "name": "ipython",
    "version": 3
   },
   "file_extension": ".py",
   "mimetype": "text/x-python",
   "name": "python",
   "nbconvert_exporter": "python",
   "pygments_lexer": "ipython3",
   "version": "3.5.2"
  }
 },
 "nbformat": 4,
 "nbformat_minor": 2
}
