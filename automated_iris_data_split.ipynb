{
 "cells": [
  {
   "cell_type": "code",
   "execution_count": 16,
   "metadata": {},
   "outputs": [
    {
     "name": "stdout",
     "output_type": "stream",
     "text": [
      "1.0\n"
     ]
    }
   ],
   "source": [
    "#!/usr/bin/python3\n",
    "import time\n",
    "#import matplotlib.pyplot as plt\n",
    "from sklearn.datasets  import load_iris\n",
    "from  sklearn  import  tree\n",
    "\n",
    "#from  sklearn.cross_validation  import  train_test_split\n",
    "\n",
    "from   sklearn.model_selection  import  train_test_split\n",
    "#  loading  iris\n",
    "iris=load_iris()\n",
    "\n",
    "\n",
    "train_data,test_data,train_target,test_target=train_test_split(iris.data,iris.target,test_size=0.1)\n",
    "\n",
    "#  calling  decisiontree\n",
    "clf=tree.DecisionTreeClassifier()\n",
    "trained=clf.fit(train_data,train_target)\n",
    "#  predicting output \n",
    "predicted=trained.predict(test_data)\n",
    "\n",
    "#print(predicted)\n",
    "#  now calculating  accuracy \n",
    "from  sklearn.metrics  import  accuracy_score\n",
    "\n",
    "pct=accuracy_score(test_target,predicted)\n",
    "print(pct)\n",
    "\n",
    "\n",
    "\n",
    "\n"
   ]
  },
  {
   "cell_type": "code",
   "execution_count": null,
   "metadata": {},
   "outputs": [],
   "source": []
  }
 ],
 "metadata": {
  "kernelspec": {
   "display_name": "Python 3",
   "language": "python",
   "name": "python3"
  },
  "language_info": {
   "codemirror_mode": {
    "name": "ipython",
    "version": 3
   },
   "file_extension": ".py",
   "mimetype": "text/x-python",
   "name": "python",
   "nbconvert_exporter": "python",
   "pygments_lexer": "ipython3",
   "version": "3.5.2"
  }
 },
 "nbformat": 4,
 "nbformat_minor": 2
}
